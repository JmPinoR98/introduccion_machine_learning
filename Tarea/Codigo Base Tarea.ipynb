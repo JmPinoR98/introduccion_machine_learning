{
 "cells": [
  {
   "cell_type": "markdown",
   "id": "10d18c0c-4b39-46e7-8cf1-60ba4e590021",
   "metadata": {},
   "source": [
    "# Creación de un Modelo de Clasificación para Predecir Problemas en Procesos de un Servidor"
   ]
  },
  {
   "cell_type": "markdown",
   "id": "c39fbf7c",
   "metadata": {},
   "source": [
    "## Liberias"
   ]
  },
  {
   "cell_type": "code",
   "execution_count": null,
   "id": "38a70b8a",
   "metadata": {
    "vscode": {
     "languageId": "plaintext"
    }
   },
   "outputs": [],
   "source": []
  }
 ],
 "metadata": {
  "kernelspec": {
   "display_name": "Python 3 (ipykernel)",
   "language": "python",
   "name": "python3"
  },
  "language_info": {
   "codemirror_mode": {
    "name": "ipython",
    "version": 3
   },
   "file_extension": ".py",
   "mimetype": "text/x-python",
   "name": "python",
   "nbconvert_exporter": "python",
   "pygments_lexer": "ipython3",
   "version": "3.9.12"
  }
 },
 "nbformat": 4,
 "nbformat_minor": 5
}
